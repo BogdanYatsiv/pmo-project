{
 "cells": [
  {
   "cell_type": "markdown",
   "metadata": {},
   "source": [
    " # Модифікований метод послідовних наближень\n",
    " "
   ]
  },
  {
   "cell_type": "markdown",
   "metadata": {},
   "source": [
    "## Теоретичні відомості"
   ]
  },
  {
   "cell_type": "markdown",
   "metadata": {},
   "source": [
    " Ефективний метод обчислення характеристичних чисел і відповідних їм власних функцій лінійного цілком неперервного оператора, що діє у нормованому функціональному просторі, – *__модифікований метод послідовних наближень (ММПН)__* – послідовно ітерує оператором деяку початкову функцію та опрацьовує на кожному кроці всі обчислені функції. ММПН найбільш ефективний у випадках, коли спектр оператора містить групу власних чисел, близьких за абсолютною величиною до першого. Метод можна застосовувати до узагальнених спектральних задач з поліноміальною залежністю від параметра."
   ]
  },
  {
   "cell_type": "markdown",
   "metadata": {},
   "source": [
    "## Практична частина:"
   ]
  },
  {
   "cell_type": "markdown",
   "metadata": {},
   "source": [
    "### Задача:"
   ]
  },
  {
   "cell_type": "markdown",
   "metadata": {},
   "source": [
    "$Au=\\int_0^1 G(x,t) u(t)dt$  \n",
    "$u - \\mu Au = 0$  \n",
    "$\\mu = \\frac{1}{\\lambda}$"
   ]
  },
  {
   "cell_type": "markdown",
   "metadata": {},
   "source": [
    "$G(x,t)=\\Bigg\\{\\begin{array}\\\\\n",
    "(1-x)t \\textrm{  ,  }t\\leq x\\\\\n",
    "(1-t)x \\textrm{  ,  }t\\geq x\\\\\n",
    "\\end{array}$"
   ]
  },
  {
   "cell_type": "markdown",
   "metadata": {},
   "source": [
    "$u=u(x) \\textrm{  ,  } x \\in [0;1]$"
   ]
  },
  {
   "cell_type": "markdown",
   "metadata": {},
   "source": [
    "A-інтегральний оператор  \n",
    "G-ядро  \n",
    "$\\mu$-характеристичне число  \n",
    "$\\lambda$-власне значення"
   ]
  },
  {
   "cell_type": "markdown",
   "metadata": {},
   "source": [
    "__Крок 1__  \n",
    "*Запрограмувати дію оператора А (перевірити чи старший коефіцієнт != 0)*  \n",
    "$$v_m=Av_{m-1}$$"
   ]
  },
  {
   "cell_type": "code",
   "execution_count": 2,
   "metadata": {},
   "outputs": [],
   "source": [
    "import numpy as np\n",
    "\n",
    "def operatorA_action(p:np.poly1d)->np.poly1d:\n",
    "    \"\"\" Integral operator action A \"\"\"\n",
    "    t = np.array([1,0]) #t\n",
    "    t1 = np.array([-1,1]) #1-t\n",
    "\n",
    "    first_int = np.polyint(np.polymul(t,p)) # інтегруємо першу частину\n",
    "    first_addition = np.polymul(t1, first_int) # знаходимо перший доданок\n",
    "\n",
    "    second_int = np.polyint(np.polymul(t1,p)) # знаходимо первісну\n",
    "    second_addition = np.polymul(t, np.polysub(np.polyval(second_int,1), second_int)) # підставляємо межі інтегрування та знаходимо другий доданок\n",
    "\n",
    "    Vm = np.polyadd(first_addition, second_addition) #сумуємо два доданки\n",
    "\n",
    "    return Vm\n",
    "\n",
    "def sequence_V(V0:np.poly1d, m:int)->list:\n",
    "    \"\"\" The function generates the sequence Vm \"\"\"\n",
    "    sequence = []\n",
    "    sequence.append(V0) # додаємо початкове наближення\n",
    "    for i in range (m):\n",
    "        sequence.append(operatorA_action(sequence[i])) # додаємо поліном в послідовність \n",
    "    return sequence"
   ]
  },
  {
   "cell_type": "markdown",
   "metadata": {},
   "source": [
    "__Тести__"
   ]
  },
  {
   "cell_type": "code",
   "execution_count": null,
   "metadata": {},
   "outputs": [],
   "source": []
  },
  {
   "cell_type": "markdown",
   "metadata": {},
   "source": [
    "__Крок 2__  \n",
    "*Обчислити скалярний добуток*"
   ]
  },
  {
   "cell_type": "code",
   "execution_count": 3,
   "metadata": {},
   "outputs": [],
   "source": [
    "import numpy as np\n",
    "\n",
    "def scalar_product(a_poly:np.poly1d, b_poly:np.poly1d)->float:\n",
    "    \"\"\"Find scalar product of two polynomials\"\"\"\n",
    "    integral = np.polyint(np.polymul(a_poly, b_poly)) # множимо поліноми і знаходимо первісну\n",
    "    return integral(1) - integral(0) # від інтегралу в точці 1 - інтеграл в точці 0"
   ]
  },
  {
   "cell_type": "markdown",
   "metadata": {},
   "source": [
    "__Тести__"
   ]
  },
  {
   "cell_type": "code",
   "execution_count": null,
   "metadata": {},
   "outputs": [],
   "source": []
  },
  {
   "cell_type": "markdown",
   "metadata": {},
   "source": [
    "__Крок 3__  \n",
    "*Знайти корені $\\mu_n^{(m)}$*  \n",
    "$C_0^{(m)}+C_1^{(m)}\\mu+...+C_{m-1}^{(m)}\\mu^{m-1}=0$"
   ]
  },
  {
   "cell_type": "code",
   "execution_count": 4,
   "metadata": {},
   "outputs": [],
   "source": [
    "import numpy as np\n",
    "\n",
    "def get_Matrix(V_m,num_of_v):\n",
    "    matrix_of_SCALAR = np.array([[]])\n",
    "    counter_for_num_of_element = 1\n",
    "    for counter in range(num_of_v - 1):\n",
    "        if counter == 0:\n",
    "            matrix_of_SCALAR = np.zeros((1,1))\n",
    "            matrix_of_SCALAR[counter,counter] = scalar_product(V_m[counter_for_num_of_element],V_m[counter_for_num_of_element])\n",
    "        elif counter > 0:\n",
    "            col = np.zeros((counter,1))\n",
    "            row = np.zeros((counter + 1,1))\n",
    "            matrix_of_SCALAR = np.concatenate((matrix_of_SCALAR,col), axis = 1)\n",
    "            matrix_of_SCALAR = np.concatenate((matrix_of_SCALAR,row.T), axis = 0)\n",
    "            local_count = 0\n",
    "            matrix_of_SCALAR[counter,counter] = scalar_product(V_m[counter_for_num_of_element],V_m[counter_for_num_of_element])\n",
    "            while local_count < counter:\n",
    "                matrix_of_SCALAR[counter,local_count] = scalar_product(V_m[counter],V_m[local_count])\n",
    "                matrix_of_SCALAR[local_count,counter] = scalar_product(V_m[local_count],V_m[counter])\n",
    "                local_count+=1\n",
    "        counter_for_num_of_element+=1\n",
    "    matrix_of_SCALAR = np.rot90(matrix_of_SCALAR,2)\n",
    "    return matrix_of_SCALAR\n",
    "\n",
    "def get_Res_vector_for_Matr(V_m,num_of_v):\n",
    "    res = np.array([])\n",
    "    for counter in range(1,num_of_v):\n",
    "        res = np.append(res, -(scalar_product(V_m[0],V_m[counter])))\n",
    "    res = np.flip(res)\n",
    "    return res\n",
    "\n",
    "def get_Vector_of_Coef(V_m,num_of_v):\n",
    "    vector_of_Coef = np.linalg.solve(get_Matrix(V_m,num_of_v),get_Res_vector_for_Matr(V_m,num_of_v))\n",
    "    return vector_of_Coef"
   ]
  },
  {
   "cell_type": "markdown",
   "metadata": {},
   "source": [
    "__Тести__"
   ]
  },
  {
   "cell_type": "code",
   "execution_count": null,
   "metadata": {},
   "outputs": [],
   "source": []
  },
  {
   "cell_type": "markdown",
   "metadata": {},
   "source": [
    "__Крок 4_  \n",
    "*Обчислити $U_n^{(m)}$*  \n",
    "$U_n^{(m)}=\\sum_{j=1}^m Z_j^{(m)}\\mu_n^{(m)};$  \n",
    "$Z_j^{(m)}=\\sum_{i=0}^{j-1}c_i^{(m)}V_{j-i};$  \n",
    "$n=1,2,...,m-1$\n"
   ]
  },
  {
   "cell_type": "code",
   "execution_count": null,
   "metadata": {},
   "outputs": [],
   "source": []
  },
  {
   "cell_type": "markdown",
   "metadata": {},
   "source": [
    "__Тести__"
   ]
  },
  {
   "cell_type": "code",
   "execution_count": null,
   "metadata": {},
   "outputs": [],
   "source": []
  },
  {
   "cell_type": "markdown",
   "metadata": {},
   "source": [
    "### Результат:"
   ]
  },
  {
   "cell_type": "markdown",
   "metadata": {},
   "source": [
    "Перевірка:$U_n^{(m)}=\\mu_n^{(m)}AU_n^{(m)}$"
   ]
  },
  {
   "cell_type": "code",
   "execution_count": null,
   "metadata": {},
   "outputs": [],
   "source": []
  }
 ],
 "metadata": {
  "kernelspec": {
   "display_name": "Python 3",
   "language": "python",
   "name": "python3"
  },
  "language_info": {
   "codemirror_mode": {
    "name": "ipython",
    "version": 3
   },
   "file_extension": ".py",
   "mimetype": "text/x-python",
   "name": "python",
   "nbconvert_exporter": "python",
   "pygments_lexer": "ipython3",
   "version": "3.7.4"
  }
 },
 "nbformat": 4,
 "nbformat_minor": 2
}
