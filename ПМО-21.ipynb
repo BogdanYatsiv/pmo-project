{
 "cells": [
  {
   "cell_type": "markdown",
   "metadata": {},
   "source": [
    " # Модифікований метод послідовних наближень\n",
    " "
   ]
  },
  {
   "cell_type": "markdown",
   "metadata": {},
   "source": [
    "## Теоретичні відомості"
   ]
  },
  {
   "cell_type": "markdown",
   "metadata": {},
   "source": [
    " Ефективний метод обчислення характеристичних чисел і відповідних їм власних функцій лінійного цілком неперервного оператора, що діє у нормованому функціональному просторі, – *__модифікований метод послідовних наближень (ММПН)__* – послідовно ітерує оператором деяку початкову функцію та опрацьовує на кожному кроці всі обчислені функції. ММПН найбільш ефективний у випадках, коли спектр оператора містить групу власних чисел, близьких за абсолютною величиною до першого. Метод можна застосовувати до узагальнених спектральних задач з поліноміальною залежністю від параметра."
   ]
  },
  {
   "cell_type": "markdown",
   "metadata": {},
   "source": [
    "## Практична частина:"
   ]
  },
  {
   "cell_type": "markdown",
   "metadata": {},
   "source": [
    "### Задача:"
   ]
  },
  {
   "cell_type": "markdown",
   "metadata": {},
   "source": [
    "$Au=\\int_0^1 G(x,t) u(t)dt$"
   ]
  },
  {
   "cell_type": "markdown",
   "metadata": {},
   "source": [
    "$u - \\mu Au = 0$\n",
    "\n",
    "$\\mu = \\frac{1}{\\lambda}$"
   ]
  },
  {
   "cell_type": "markdown",
   "metadata": {},
   "source": [
    "$G(x,t)=\\Bigg\\{\\begin{array}\\\\\n",
    "(1-x)t \\textrm{  ,  }t\\leq x\\\\\n",
    "(1-t)x \\textrm{  ,  }t\\geq x\\\\\n",
    "\\end{array}$"
   ]
  },
  {
   "cell_type": "markdown",
   "metadata": {},
   "source": [
    "$u=u(x) \\textrm{  ,  } x \\in [0;1]$"
   ]
  },
  {
   "cell_type": "markdown",
   "metadata": {},
   "source": [
    "A-інтегральний оператор  \n",
    "G-ядро\n",
    "\n",
    "$\\mu$-характеристичне число\n",
    "\n",
    "$\\lambda$-власне значення"
   ]
  },
  {
   "cell_type": "markdown",
   "metadata": {},
   "source": [
    "__Крок 1__  \n",
    "*Запрограмувати дію оператора А (перевірити чи старший коефіцієнт != 0)*  \n",
    "$$v_m=Av_{m-1}$$"
   ]
  },
  {
   "cell_type": "code",
   "execution_count": null,
   "metadata": {},
   "outputs": [],
   "source": []
  },
  {
   "cell_type": "markdown",
   "metadata": {},
   "source": [
    "__Крок 2__  \n",
    "*Обчислити скалярний добуток*"
   ]
  },
  {
   "cell_type": "code",
   "execution_count": null,
   "metadata": {},
   "outputs": [],
   "source": []
  },
  {
   "cell_type": "markdown",
   "metadata": {},
   "source": [
    "__Крок 3__  \n",
    "*Знайти корені $\\mu_n^{(m)}$*  \n",
    "$C_0^{(m)}+C_1^{(m)}\\mu+...+C_{m-1}^{(m)}\\mu^{m-1}=0$"
   ]
  },
  {
   "cell_type": "code",
   "execution_count": null,
   "metadata": {},
   "outputs": [],
   "source": []
  },
  {
   "cell_type": "markdown",
   "metadata": {},
   "source": [
    "__Крок 4_  \n",
    "*Обчислити $U_n^{(m)}$*  \n",
    "$U_n^{(m)}=\\sum_{j=1}^m Z_j^{(m)}\\mu_n^{(m)};$  \n",
    "$Z_j^{(m)}=\\sum_{i=0}^{j-1}c_i^{(m)}V_{j-i};$  \n",
    "$n=1,2,...,m-1$\n"
   ]
  },
  {
   "cell_type": "code",
   "execution_count": null,
   "metadata": {},
   "outputs": [],
   "source": []
  },
  {
   "cell_type": "markdown",
   "metadata": {},
   "source": [
    "### Результат:"
   ]
  },
  {
   "cell_type": "markdown",
   "metadata": {},
   "source": [
    "Перевірка:$U_n^{(m)}=\\mu_n^{(m)}AU_n^{(m)}$"
   ]
  },
  {
   "cell_type": "code",
   "execution_count": null,
   "metadata": {},
   "outputs": [],
   "source": []
  }
 ],
 "metadata": {
  "kernelspec": {
   "display_name": "Python 3",
   "language": "python",
   "name": "python3"
  },
  "language_info": {
   "codemirror_mode": {
    "name": "ipython",
    "version": 3
   },
   "file_extension": ".py",
   "mimetype": "text/x-python",
   "name": "python",
   "nbconvert_exporter": "python",
   "pygments_lexer": "ipython3",
   "version": "3.7.4"
  }
 },
 "nbformat": 4,
 "nbformat_minor": 2
}