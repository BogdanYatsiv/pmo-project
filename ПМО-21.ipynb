{
 "cells": [
  {
   "cell_type": "markdown",
   "metadata": {},
   "source": [
    " # Модифікований метод послідовних наближень\n",
    " "
   ]
  },
  {
   "cell_type": "markdown",
   "metadata": {},
   "source": [
    "## Теоретичні відомості"
   ]
  },
  {
   "cell_type": "markdown",
   "metadata": {},
   "source": [
    " Ефективний метод обчислення характеристичних чисел і відповідних їм власних функцій лінійного цілком неперервного оператора, що діє у нормованому функціональному просторі, – *__модифікований метод послідовних наближень (ММПН)__* – послідовно ітерує оператором деяку початкову функцію та опрацьовує на кожному кроці всі обчислені функції. *ММПН* найбільш ефективний у випадках, коли спектр оператора містить групу власних чисел, близьких за абсолютною величиною до першого. Метод можна застосовувати до узагальнених спектральних задач з поліноміальною залежністю від параметра."
   ]
  },
  {
   "cell_type": "markdown",
   "metadata": {},
   "source": [
    "## Практична частина:"
   ]
  },
  {
   "cell_type": "markdown",
   "metadata": {},
   "source": [
    "### Задача:"
   ]
  },
  {
   "cell_type": "markdown",
   "metadata": {},
   "source": [
    "$Au=\\lambda u$  \n",
    "$\\lambda$ , u(u$\\neq$0)  \n",
    "$u - \\mu Au = 0$  \n",
    "$\\mu = \\frac{1}{\\lambda}$  \n",
    "$Au=\\int_0^1 G(x,t) u(t)dt$  \n",
    "Знайти таке u $\\neq$ 0, щоб рівняння вище було правильним."
   ]
  },
  {
   "cell_type": "markdown",
   "metadata": {},
   "source": [
    "\\begin{equation*}\n",
    "G(x,t) = \n",
    " \\begin{cases}\n",
    "   (1-x)t &\\text{, t}\\leq x\\\\\n",
    "   (1-t)x &\\text{, t}\\geq x\n",
    " \\end{cases}\n",
    "\\end{equation*}"
   ]
  },
  {
   "cell_type": "markdown",
   "metadata": {},
   "source": [
    "$u=u(x) \\textrm{  ,  } x \\in [0;1]$"
   ]
  },
  {
   "cell_type": "markdown",
   "metadata": {},
   "source": [
    "A-інтегральний оператор  \n",
    "G-ядро  \n",
    "$\\mu$-характеристичне число  \n",
    "$\\lambda$-власне значення"
   ]
  },
  {
   "cell_type": "markdown",
   "metadata": {},
   "source": [
    "__Крок 1__  \n",
    "*Запрограмувати дію оператора А (перевірити чи старший коефіцієнт != 0)*  \n",
    "$$v_m=Av_{m-1}$$"
   ]
  },
  {
   "cell_type": "code",
   "execution_count": 5,
   "metadata": {},
   "outputs": [],
   "source": [
    "import numpy as np\n",
    "\n",
    "def operatorA_action(p:np.poly1d)->np.poly1d:\n",
    "    \"\"\" Integral operator action A \"\"\"\n",
    "    t = np.array([1,0]) #t\n",
    "    t1 = np.array([-1,1]) #1-t\n",
    "\n",
    "    first_int = np.polyint(np.polymul(t,p)) # інтегруємо першу частину\n",
    "    first_addition = np.polymul(t1, first_int) # знаходимо перший доданок\n",
    "\n",
    "    second_int = np.polyint(np.polymul(t1,p)) # знаходимо первісну\n",
    "    second_addition = np.polymul(t, np.polysub(np.polyval(second_int,1), second_int)) # підставляємо межі інтегрування та знаходимо другий доданок\n",
    "\n",
    "    Vm = np.polyadd(first_addition, second_addition) #сумуємо два доданки\n",
    "\n",
    "    return Vm\n",
    "\n",
    "def sequence_V(V0:np.poly1d, m:int)->list:\n",
    "    \"\"\" The function generates the sequence Vm \"\"\"\n",
    "    sequence = []\n",
    "    sequence.append(V0) # додаємо початкове наближення\n",
    "    for i in range (m):\n",
    "        sequence.append(operatorA_action(sequence[i])) # додаємо поліном в послідовність \n",
    "    return sequence"
   ]
  },
  {
   "cell_type": "markdown",
   "metadata": {},
   "source": [
    "__Крок 2__  \n",
    "*Обчислити скалярний добуток*"
   ]
  },
  {
   "cell_type": "code",
   "execution_count": 6,
   "metadata": {},
   "outputs": [],
   "source": [
    "import numpy as np\n",
    "\n",
    "def scalar_product(a_poly:np.poly1d, b_poly:np.poly1d)->float:\n",
    "    \"\"\"Find scalar product of two polynomials\"\"\"\n",
    "    integral = np.polyint(np.polymul(a_poly, b_poly)) # множимо поліноми і знаходимо первісну\n",
    "    return integral(1) - integral(0) # від інтегралу в точці 1 - інтеграл в точці 0"
   ]
  },
  {
   "cell_type": "markdown",
   "metadata": {},
   "source": [
    "__Крок 3__  \n",
    "*Знайти корені $\\mu_n^{(m)}$*  \n",
    "$C_0^{(m)}+C_1^{(m)}\\mu+...+C_{m-1}^{(m)}\\mu^{m-1}=0$"
   ]
  },
  {
   "cell_type": "code",
   "execution_count": 1,
   "metadata": {},
   "outputs": [],
   "source": [
    "import numpy as np\n",
    "\n",
    "def get_Matrix(V_m,num_of_v):\n",
    "    counter_for_num_of_element = 1\n",
    "    res = \"\"\n",
    "    for counter in range(num_of_v - 1):\n",
    "        counter_for_el = counter + 1\n",
    "        if counter == 0:\n",
    "            matrix_of_SCALAR = np.identity(num_of_v - 1)\n",
    "        for i in range(counter,num_of_v - 1):\n",
    "            if counter_for_el  < num_of_v:\n",
    "                matrix_of_SCALAR[counter,i] = scalar_product(V_m[counter_for_num_of_element],V_m[counter_for_el])\n",
    "            counter_for_el += 1\n",
    "        counter_for_num_of_element+=1\n",
    "        res = matrix_of_SCALAR\n",
    "    res = symetrize(res)\n",
    "    res = np.rot90(res,2)\n",
    "    return res\n",
    "\n",
    "def symetrize(a):\n",
    "    return a + a.T - np.diag(a.diagonal())\n",
    "\n",
    "def get_Res_vector_for_Matr(V_m,num_of_v):\n",
    "    res = np.array([])\n",
    "    for counter in range(1,num_of_v):\n",
    "        res = np.append(res, -(scalar_product(V_m[0],V_m[counter])))\n",
    "    res = np.flip(res)\n",
    "    return res\n",
    "\n",
    "def get_Vector_of_Coef(V_m,num_of_v):\n",
    "    vector_of_Coef = np.linalg.solve(get_Matrix(V_m,num_of_v),get_Res_vector_for_Matr(V_m,num_of_v))\n",
    "    return vector_of_Coef"
   ]
  },
  {
   "cell_type": "markdown",
   "metadata": {},
   "source": [
    "__Крок 4_  \n",
    "*Обчислити $U_n^{(m)}$*  \n",
    "$U_n^{(m)}=\\sum_{j=1}^m Z_j^{(m)}\\mu_n^{(m)};$  \n",
    "$Z_j^{(m)}=\\sum_{i=0}^{j-1}c_i^{(m)}V_{j-i};$  \n",
    "$n=1,2,...,m-1$\n"
   ]
  },
  {
   "cell_type": "code",
   "execution_count": 2,
   "metadata": {},
   "outputs": [],
   "source": [
    "import numpy as np\n",
    "\n",
    "def get_mu(c_arr:np.ndarray)-> np.ndarray:\n",
    "    \"\"\"Find mu\"\"\"\n",
    "    mu_poly=c_arr[::-1] # від найбільшого до найменшого\n",
    "    mu_values=np.roots(mu_poly) # знаходимо корені\n",
    "    return mu_values\n",
    "\n",
    "def get_z(c: np.ndarray, v: list, amount: int) -> np.ndarray:\n",
    "    \"\"\"Find z\"\"\"\n",
    "    result = np.arange(amount, dtype=np.poly1d)  # створюємо масив поліномів\n",
    "    for j in range(1, amount + 1):  # знаходимо усі z згідно формули\n",
    "        val = 0\n",
    "        for i in range(j):\n",
    "            val += np.poly1d(c[i] * v[j - i])\n",
    "        result[j - 1] = val\n",
    "    return result\n",
    "\n",
    "def get_u(z: np.ndarray, mu: np.ndarray, amount: int)->np.ndarray:\n",
    "    \"\"\"Find u \"\"\"\n",
    "    n_max = len(mu)\n",
    "    result = np.arange(n_max, dtype=np.poly1d)\n",
    "    for n in range(n_max):\n",
    "        val = 0\n",
    "        for j in range(amount):\n",
    "            val += z[j] * pow(mu[n], j + 1)\n",
    "        result[n] = val\n",
    "    return result"
   ]
  },
  {
   "cell_type": "markdown",
   "metadata": {},
   "source": [
    "### Результат:"
   ]
  },
  {
   "cell_type": "code",
   "execution_count": 6,
   "metadata": {},
   "outputs": [
    {
     "ename": "ModuleNotFoundError",
     "evalue": "No module named 'Functions'",
     "output_type": "error",
     "traceback": [
      "\u001b[1;31m---------------------------------------------------------------------------\u001b[0m",
      "\u001b[1;31mModuleNotFoundError\u001b[0m                       Traceback (most recent call last)",
      "\u001b[1;32m<ipython-input-6-55415f40fe98>\u001b[0m in \u001b[0;36m<module>\u001b[1;34m\u001b[0m\n\u001b[0;32m      1\u001b[0m \u001b[1;32mimport\u001b[0m \u001b[0mnumpy\u001b[0m \u001b[1;32mas\u001b[0m \u001b[0mnp\u001b[0m\u001b[1;33m\u001b[0m\u001b[1;33m\u001b[0m\u001b[0m\n\u001b[0;32m      2\u001b[0m \u001b[1;32mimport\u001b[0m \u001b[0mmatplotlib\u001b[0m\u001b[1;33m.\u001b[0m\u001b[0mpyplot\u001b[0m \u001b[1;32mas\u001b[0m \u001b[0mplt\u001b[0m\u001b[1;33m\u001b[0m\u001b[1;33m\u001b[0m\u001b[0m\n\u001b[1;32m----> 3\u001b[1;33m \u001b[1;32mfrom\u001b[0m \u001b[0mFunctions\u001b[0m \u001b[1;32mimport\u001b[0m \u001b[1;33m*\u001b[0m\u001b[1;33m\u001b[0m\u001b[1;33m\u001b[0m\u001b[0m\n\u001b[0m\u001b[0;32m      4\u001b[0m \u001b[0mstart\u001b[0m \u001b[1;33m=\u001b[0m \u001b[0mnp\u001b[0m\u001b[1;33m.\u001b[0m\u001b[0mpoly1d\u001b[0m\u001b[1;33m(\u001b[0m\u001b[1;33m[\u001b[0m\u001b[1;36m1.\u001b[0m\u001b[1;33m,\u001b[0m\u001b[1;36m0.\u001b[0m\u001b[1;33m]\u001b[0m\u001b[1;33m)\u001b[0m\u001b[1;33m\u001b[0m\u001b[1;33m\u001b[0m\u001b[0m\n\u001b[0;32m      5\u001b[0m \u001b[0mfirst_step\u001b[0m \u001b[1;33m=\u001b[0m \u001b[0moperatorA_action\u001b[0m\u001b[1;33m(\u001b[0m\u001b[0mstart\u001b[0m\u001b[1;33m)\u001b[0m\u001b[1;33m\u001b[0m\u001b[1;33m\u001b[0m\u001b[0m\n",
      "\u001b[1;31mModuleNotFoundError\u001b[0m: No module named 'Functions'"
     ]
    }
   ],
   "source": [
    "import numpy as np\n",
    "import matplotlib.pyplot as plt\n",
    "from Functions import *\n",
    "start = np.poly1d([1.,0.])\n",
    "first_step = operatorA_action(start)\n",
    "second_step = sequence_V(first_step,3)\n",
    "third_step = get_Vector_of_Coef(second_step,3)\n",
    "fourth_step = get_mu(third_step)\n",
    "fifth_step = get_z(third_step,second_step,2)\n",
    "last_step = get_u(fifth_step,fourth_step,2)\n",
    "print(last_step)\n",
    "\n",
    "dots = np.linspace(-2, 2, 50)\n",
    "y = last_step[0](dots)\n",
    "plt.plot(dots,y)\n",
    "plt.xlabel(\"X\")\n",
    "plt.ylabel(\"Y\")\n",
    "plt.title(\"U plot\")\n",
    "plt.grid()\n",
    "plt.show()"
   ]
  }
 ],
 "metadata": {
  "kernelspec": {
   "display_name": "Python 3",
   "language": "python",
   "name": "python3"
  },
  "language_info": {
   "codemirror_mode": {
    "name": "ipython",
    "version": 3
   },
   "file_extension": ".py",
   "mimetype": "text/x-python",
   "name": "python",
   "nbconvert_exporter": "python",
   "pygments_lexer": "ipython3",
   "version": "3.7.4"
  }
 },
 "nbformat": 4,
 "nbformat_minor": 2
}
